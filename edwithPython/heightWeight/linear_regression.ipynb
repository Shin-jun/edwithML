{
 "cells": [
  {
   "cell_type": "code",
   "execution_count": 1,
   "id": "01d93a16",
   "metadata": {},
   "outputs": [],
   "source": [
    "import numpy as np\n",
    "import pandas as pd\n",
    "import matplotlib.pyplot as plt"
   ]
  },
  {
   "cell_type": "code",
   "execution_count": 8,
   "id": "46feffac",
   "metadata": {},
   "outputs": [],
   "source": [
    "dataset = pd.read_csv(\"datasets/weight-height.csv\")"
   ]
  },
  {
   "cell_type": "code",
   "execution_count": 13,
   "id": "813c81f4",
   "metadata": {},
   "outputs": [
    {
     "data": {
      "text/html": [
       "<div>\n",
       "<style scoped>\n",
       "    .dataframe tbody tr th:only-of-type {\n",
       "        vertical-align: middle;\n",
       "    }\n",
       "\n",
       "    .dataframe tbody tr th {\n",
       "        vertical-align: top;\n",
       "    }\n",
       "\n",
       "    .dataframe thead th {\n",
       "        text-align: right;\n",
       "    }\n",
       "</style>\n",
       "<table border=\"1\" class=\"dataframe\">\n",
       "  <thead>\n",
       "    <tr style=\"text-align: right;\">\n",
       "      <th></th>\n",
       "      <th>Gender</th>\n",
       "      <th>Height</th>\n",
       "      <th>Weight</th>\n",
       "    </tr>\n",
       "  </thead>\n",
       "  <tbody>\n",
       "    <tr>\n",
       "      <th>0</th>\n",
       "      <td>Male</td>\n",
       "      <td>73.847017</td>\n",
       "      <td>241.893563</td>\n",
       "    </tr>\n",
       "    <tr>\n",
       "      <th>1</th>\n",
       "      <td>Male</td>\n",
       "      <td>68.781904</td>\n",
       "      <td>162.310473</td>\n",
       "    </tr>\n",
       "    <tr>\n",
       "      <th>2</th>\n",
       "      <td>Male</td>\n",
       "      <td>74.110105</td>\n",
       "      <td>212.740856</td>\n",
       "    </tr>\n",
       "    <tr>\n",
       "      <th>3</th>\n",
       "      <td>Male</td>\n",
       "      <td>71.730978</td>\n",
       "      <td>220.042470</td>\n",
       "    </tr>\n",
       "    <tr>\n",
       "      <th>4</th>\n",
       "      <td>Male</td>\n",
       "      <td>69.881796</td>\n",
       "      <td>206.349801</td>\n",
       "    </tr>\n",
       "  </tbody>\n",
       "</table>\n",
       "</div>"
      ],
      "text/plain": [
       "  Gender     Height      Weight\n",
       "0   Male  73.847017  241.893563\n",
       "1   Male  68.781904  162.310473\n",
       "2   Male  74.110105  212.740856\n",
       "3   Male  71.730978  220.042470\n",
       "4   Male  69.881796  206.349801"
      ]
     },
     "execution_count": 13,
     "metadata": {},
     "output_type": "execute_result"
    }
   ],
   "source": [
    "dataset.head()"
   ]
  },
  {
   "cell_type": "code",
   "execution_count": 32,
   "id": "65929f42",
   "metadata": {},
   "outputs": [],
   "source": [
    "height_mean = dataset.Height.mean()"
   ]
  },
  {
   "cell_type": "code",
   "execution_count": 27,
   "id": "0c919a87",
   "metadata": {},
   "outputs": [],
   "source": [
    "height_std = dataset.Height.std()"
   ]
  },
  {
   "cell_type": "code",
   "execution_count": 37,
   "id": "d6be23a1",
   "metadata": {},
   "outputs": [],
   "source": [
    "height_scaled = (dataset.Height - height_mean)/height_std"
   ]
  },
  {
   "cell_type": "code",
   "execution_count": 36,
   "id": "1430d4cb",
   "metadata": {},
   "outputs": [
    {
     "data": {
      "text/plain": [
       "0    1.943964\n",
       "1    0.627505\n",
       "2    2.012343\n",
       "3    1.393991\n",
       "4    0.913375\n",
       "Name: Height, dtype: float64"
      ]
     },
     "execution_count": 36,
     "metadata": {},
     "output_type": "execute_result"
    }
   ],
   "source": [
    "t1.head()"
   ]
  },
  {
   "cell_type": "code",
   "execution_count": 39,
   "id": "583fc6d3",
   "metadata": {},
   "outputs": [
    {
     "data": {
      "text/plain": [
       "count    1.000000e+04\n",
       "mean     2.046363e-16\n",
       "std      1.000000e+00\n",
       "min     -3.146027e+00\n",
       "25%     -7.438384e-01\n",
       "50%     -1.286272e-02\n",
       "75%      7.294819e-01\n",
       "max      3.282934e+00\n",
       "Name: Height, dtype: float64"
      ]
     },
     "execution_count": 39,
     "metadata": {},
     "output_type": "execute_result"
    }
   ],
   "source": [
    "t1.describe()"
   ]
  },
  {
   "cell_type": "code",
   "execution_count": 43,
   "id": "1a0d2f5e",
   "metadata": {},
   "outputs": [],
   "source": [
    "df_sample = dataset.sample(50)"
   ]
  },
  {
   "cell_type": "code",
   "execution_count": 44,
   "id": "e9c174d7",
   "metadata": {},
   "outputs": [
    {
     "data": {
      "text/html": [
       "<div>\n",
       "<style scoped>\n",
       "    .dataframe tbody tr th:only-of-type {\n",
       "        vertical-align: middle;\n",
       "    }\n",
       "\n",
       "    .dataframe tbody tr th {\n",
       "        vertical-align: top;\n",
       "    }\n",
       "\n",
       "    .dataframe thead th {\n",
       "        text-align: right;\n",
       "    }\n",
       "</style>\n",
       "<table border=\"1\" class=\"dataframe\">\n",
       "  <thead>\n",
       "    <tr style=\"text-align: right;\">\n",
       "      <th></th>\n",
       "      <th>Gender</th>\n",
       "      <th>Height</th>\n",
       "      <th>Weight</th>\n",
       "    </tr>\n",
       "  </thead>\n",
       "  <tbody>\n",
       "    <tr>\n",
       "      <th>2558</th>\n",
       "      <td>Male</td>\n",
       "      <td>71.212076</td>\n",
       "      <td>198.045548</td>\n",
       "    </tr>\n",
       "    <tr>\n",
       "      <th>1512</th>\n",
       "      <td>Male</td>\n",
       "      <td>65.635997</td>\n",
       "      <td>172.539083</td>\n",
       "    </tr>\n",
       "    <tr>\n",
       "      <th>2734</th>\n",
       "      <td>Male</td>\n",
       "      <td>71.958388</td>\n",
       "      <td>198.404176</td>\n",
       "    </tr>\n",
       "    <tr>\n",
       "      <th>3520</th>\n",
       "      <td>Male</td>\n",
       "      <td>71.154576</td>\n",
       "      <td>194.383011</td>\n",
       "    </tr>\n",
       "    <tr>\n",
       "      <th>3728</th>\n",
       "      <td>Male</td>\n",
       "      <td>68.061487</td>\n",
       "      <td>168.519763</td>\n",
       "    </tr>\n",
       "  </tbody>\n",
       "</table>\n",
       "</div>"
      ],
      "text/plain": [
       "     Gender     Height      Weight\n",
       "2558   Male  71.212076  198.045548\n",
       "1512   Male  65.635997  172.539083\n",
       "2734   Male  71.958388  198.404176\n",
       "3520   Male  71.154576  194.383011\n",
       "3728   Male  68.061487  168.519763"
      ]
     },
     "execution_count": 44,
     "metadata": {},
     "output_type": "execute_result"
    }
   ],
   "source": [
    "df_sample.head()"
   ]
  },
  {
   "cell_type": "code",
   "execution_count": 45,
   "id": "78af3d97",
   "metadata": {},
   "outputs": [],
   "source": [
    "df_sample['Height'] = 2.54 * df_sample['Height']\n",
    "df_sample['Weight'] = 0.45 * df_sample['Weight']"
   ]
  },
  {
   "cell_type": "code",
   "execution_count": 46,
   "id": "0ff17823",
   "metadata": {},
   "outputs": [
    {
     "data": {
      "text/html": [
       "<div>\n",
       "<style scoped>\n",
       "    .dataframe tbody tr th:only-of-type {\n",
       "        vertical-align: middle;\n",
       "    }\n",
       "\n",
       "    .dataframe tbody tr th {\n",
       "        vertical-align: top;\n",
       "    }\n",
       "\n",
       "    .dataframe thead th {\n",
       "        text-align: right;\n",
       "    }\n",
       "</style>\n",
       "<table border=\"1\" class=\"dataframe\">\n",
       "  <thead>\n",
       "    <tr style=\"text-align: right;\">\n",
       "      <th></th>\n",
       "      <th>Gender</th>\n",
       "      <th>Height</th>\n",
       "      <th>Weight</th>\n",
       "    </tr>\n",
       "  </thead>\n",
       "  <tbody>\n",
       "    <tr>\n",
       "      <th>2558</th>\n",
       "      <td>Male</td>\n",
       "      <td>180.878673</td>\n",
       "      <td>89.120497</td>\n",
       "    </tr>\n",
       "    <tr>\n",
       "      <th>1512</th>\n",
       "      <td>Male</td>\n",
       "      <td>166.715433</td>\n",
       "      <td>77.642587</td>\n",
       "    </tr>\n",
       "    <tr>\n",
       "      <th>2734</th>\n",
       "      <td>Male</td>\n",
       "      <td>182.774305</td>\n",
       "      <td>89.281879</td>\n",
       "    </tr>\n",
       "    <tr>\n",
       "      <th>3520</th>\n",
       "      <td>Male</td>\n",
       "      <td>180.732623</td>\n",
       "      <td>87.472355</td>\n",
       "    </tr>\n",
       "    <tr>\n",
       "      <th>3728</th>\n",
       "      <td>Male</td>\n",
       "      <td>172.876178</td>\n",
       "      <td>75.833893</td>\n",
       "    </tr>\n",
       "  </tbody>\n",
       "</table>\n",
       "</div>"
      ],
      "text/plain": [
       "     Gender      Height     Weight\n",
       "2558   Male  180.878673  89.120497\n",
       "1512   Male  166.715433  77.642587\n",
       "2734   Male  182.774305  89.281879\n",
       "3520   Male  180.732623  87.472355\n",
       "3728   Male  172.876178  75.833893"
      ]
     },
     "execution_count": 46,
     "metadata": {},
     "output_type": "execute_result"
    }
   ],
   "source": [
    "df_sample.head()"
   ]
  },
  {
   "cell_type": "code",
   "execution_count": 48,
   "id": "89e43fc4",
   "metadata": {},
   "outputs": [
    {
     "data": {
      "text/plain": [
       "<AxesSubplot:xlabel='Height', ylabel='Weight'>"
      ]
     },
     "execution_count": 48,
     "metadata": {},
     "output_type": "execute_result"
    },
    {
     "data": {
      "image/png": "[encoded data removed]",
      "text/plain": [
       "<Figure size 432x288 with 1 Axes>"
      ]
     },
     "metadata": {
      "needs_background": "light"
     },
     "output_type": "display_data"
    }
   ],
   "source": [
    "df_sample[['Height', 'Weight']].plot.scatter('Height', 'Weight')"
   ]
  },
  {
   "cell_type": "code",
   "execution_count": 50,
   "id": "255f4212",
   "metadata": {},
   "outputs": [
    {
     "data": {
      "text/plain": [
       "[<matplotlib.lines.Line2D at 0x218802d06d8>]"
      ]
     },
     "execution_count": 50,
     "metadata": {},
     "output_type": "execute_result"
    },
    {
     "data": {
      "image/png": "[encoded data removed]",
      "text/plain": [
       "<Figure size 432x288 with 1 Axes>"
      ]
     },
     "metadata": {
      "needs_background": "light"
     },
     "output_type": "display_data"
    }
   ],
   "source": [
    "x = np.arange(150, 190)\n",
    "y = 3* x + 10\n",
    "\n",
    "plt.plot(x, y)\n"
   ]
  },
  {
   "cell_type": "code",
   "execution_count": 68,
   "id": "688ba7a9",
   "metadata": {},
   "outputs": [
    {
     "data": {
      "image/png": "[encoded data removed]",
      "text/plain": [
       "<Figure size 432x288 with 1 Axes>"
      ]
     },
     "metadata": {
      "needs_background": "light"
     },
     "output_type": "display_data"
    }
   ],
   "source": [
    "df_sample[['Height', 'Weight']].plot.scatter('Height', 'Weight')\n",
    "x = np.arange(150, 190)\n",
    "y = 1* x - 100\n",
    "\n",
    "plt.plot(x, y)\n",
    "\n",
    "plt.show()"
   ]
  },
  {
   "cell_type": "code",
   "execution_count": 73,
   "id": "2386f1f8",
   "metadata": {},
   "outputs": [
    {
     "data": {
      "image/png": "[encoded data removed]",
      "text/plain": [
       "<Figure size 432x288 with 1 Axes>"
      ]
     },
     "metadata": {
      "needs_background": "light"
     },
     "output_type": "display_data"
    }
   ],
   "source": [
    "def predict(x):\n",
    "    return 1*x -100\n",
    "df_sample[['Height', 'Weight']].plot.scatter('Height', 'Weight')\n",
    "x = np.arange(150, 190)\n",
    "y = predict(x)\n",
    "plt.plot(x, y)\n",
    "\n",
    "plt.show()"
   ]
  },
  {
   "cell_type": "code",
   "execution_count": 75,
   "id": "553c644d",
   "metadata": {},
   "outputs": [
    {
     "data": {
      "image/png": "[encoded data removed]",
      "text/plain": [
       "<Figure size 432x288 with 1 Axes>"
      ]
     },
     "metadata": {
      "needs_background": "light"
     },
     "output_type": "display_data"
    }
   ],
   "source": [
    "class MyModel():\n",
    "    def __init__(self, w0, w1):\n",
    "        self.w0 = w0\n",
    "        self.w1 = w1\n",
    "    def predict(self, x):\n",
    "        return self.w1 * x + self.w0\n",
    "my_model = MyModel(-100, 1)\n",
    "\n",
    "x = np.arange(150, 190)\n",
    "y = my_model.predict(x)\n",
    "\n",
    "plt.plot(x, y)\n",
    "plt.scatter(df_sample['Height'], df_sample['Weight'])\n",
    "plt.show()"
   ]
  },
  {
   "cell_type": "code",
   "execution_count": 82,
   "id": "90eb81e4",
   "metadata": {},
   "outputs": [],
   "source": [
    "def calculate_mae(pred, gt):\n",
    "    return np.mean(np.absolute(pred-gt))\n",
    "def calculate_mse(pred, gt):\n",
    "    return np.mean((pred-gt)**2)\n",
    "\n",
    "mae = calculate_mae(my_model.predict(df_sample['Height']), df_sample['Weight'])\n",
    "mse = calculate_mse(my_model.predict(df_sample['Height']), df_sample['Weight'])"
   ]
  },
  {
   "cell_type": "code",
   "execution_count": 86,
   "id": "fcf97aea",
   "metadata": {},
   "outputs": [
    {
     "data": {
      "image/png": "[encoded data removed]",
      "text/plain": [
       "<Figure size 432x288 with 1 Axes>"
      ]
     },
     "metadata": {
      "needs_background": "light"
     },
     "output_type": "display_data"
    },
    {
     "name": "stdout",
     "output_type": "stream",
     "text": [
      "MAE=4.737304107857033\n",
      "MSE=36.750282612153484\n"
     ]
    }
   ],
   "source": [
    "my_model = MyModel(-180, 1.5)\n",
    "\n",
    "x = np.arange(150, 190)\n",
    "y = my_model.predict(x)\n",
    "\n",
    "plt.plot(x, y)\n",
    "plt.scatter(df_sample['Height'], df_sample['Weight'])\n",
    "plt.show()\n",
    "\n",
    "mae = calculate_mae(my_model.predict(df_sample['Height']), df_sample['Weight'])\n",
    "mse = calculate_mse(my_model.predict(df_sample['Height']), df_sample['Weight'])\n",
    "\n",
    "print(f\"MAE={mae}\")\n",
    "print(f\"MSE={mse}\") # 낮은값이 나오도록"
   ]
  },
  {
   "cell_type": "code",
   "execution_count": null,
   "id": "6d76bd9f",
   "metadata": {},
   "outputs": [],
   "source": []
  }
 ],
 "metadata": {
  "kernelspec": {
   "display_name": "Python [conda env:ml_scratch] *",
   "language": "python",
   "name": "conda-env-ml_scratch-py"
  },
  "language_info": {
   "codemirror_mode": {
    "name": "ipython",
    "version": 3
   },
   "file_extension": ".py",
   "mimetype": "text/x-python",
   "name": "python",
   "nbconvert_exporter": "python",
   "pygments_lexer": "ipython3",
   "version": "3.6.13"
  }
 },
 "nbformat": 4,
 "nbformat_minor": 5
}

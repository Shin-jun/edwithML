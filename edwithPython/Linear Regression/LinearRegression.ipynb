{
 "cells": [
  {
   "cell_type": "code",
   "execution_count": 1,
   "id": "522458ca",
   "metadata": {},
   "outputs": [],
   "source": [
    "import numpy as np"
   ]
  },
  {
   "cell_type": "code",
   "execution_count": null,
   "id": "051381ab",
   "metadata": {},
   "outputs": [],
   "source": [
    "class LinearRegression(object):\n",
    "    def __init__(self, fit_intercept=True, copy_X=True): \n",
    "        self.fit_intercept = fit_intercept #fit_intercept : 절편값\n",
    "        self.copy_X = copy_X # 기존의 X값 카피\n",
    "\n",
    "        self._coef = None\n",
    "        self._intercept = None\n",
    "        self._new_X = None\n",
    "\n",
    "    def fit(self, X, y):\n",
    "         self._new_X = np.array(X)\n",
    "            y = y.reshape(-1,1)\n",
    "            \n",
    "            if self.fit_intercept:\n",
    "                intercept_vector = np.ones([len(self._new_X), 1])\n",
    "                self._new_X = np.concatenate(\n",
    "                        (intercept_vector, self._new_X), axis=1)\n",
    "            \n",
    "            weights = np.linalg.inv(\n",
    "                    self._new_X.T.dot(self._new_X)).dot(self._new_X.T.dot(y)).flatten() # 역행렬\n",
    "            \n",
    "            if self.fit_intercept:\n",
    "                self._intercept = weights[0]\n",
    "                self._coef = weights[1:]\n",
    "            else:\n",
    "                self._coef = weights\n",
    "\n",
    "    def predict(self, X):\n",
    "         test_X = np.array(X)\n",
    "            \n",
    "        if self.fit_intercept:\n",
    "            intercept_vector = np.ones([len(test_X), 1])\n",
    "            test_X = np.concatenate(intercept_vector, test_X), axis=1)\n",
    "            \n",
    "            weights = np.concatenate(([self._intercept], self._coef), axis=0)\n",
    "        else:\n",
    "            weights = self.coef\n",
    "        return test_X.dot(weights)\n",
    "\n",
    "    @property\n",
    "    def coef(self):\n",
    "        return self._coef\n",
    "\n",
    "    @property\n",
    "    def intercept(self):\n",
    "        return self._intercept"
   ]
  }
 ],
 "metadata": {
  "kernelspec": {
   "display_name": "Python [conda env:ml_scratch] *",
   "language": "python",
   "name": "conda-env-ml_scratch-py"
  },
  "language_info": {
   "codemirror_mode": {
    "name": "ipython",
    "version": 3
   },
   "file_extension": ".py",
   "mimetype": "text/x-python",
   "name": "python",
   "nbconvert_exporter": "python",
   "pygments_lexer": "ipython3",
   "version": "3.6.13"
  }
 },
 "nbformat": 4,
 "nbformat_minor": 5
}
